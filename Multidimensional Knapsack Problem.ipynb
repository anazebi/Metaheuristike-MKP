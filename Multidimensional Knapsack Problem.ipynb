{
 "cells": [
  {
   "cell_type": "markdown",
   "id": "07173820",
   "metadata": {},
   "source": [
    "## VIŠEDIMENZIONALNI PROBLEM RUKSAKA"
   ]
  },
  {
   "cell_type": "markdown",
   "id": "40a8b862",
   "metadata": {},
   "source": [
    "### Uvod"
   ]
  },
  {
   "cell_type": "markdown",
   "id": "c72d1a10",
   "metadata": {},
   "source": [
    "<div style=\"text-align:justify\">U ovome ćemo radu raznim tehnikama riješiti kombinatorni optimizacijski <b style = \"color:red\">multidimenzionalni problem ruksaka</b>. Početno ćemo rješenje konstruirati naivnim, pohlepnim pristupom te pokazati da takav pristup ne vodi do nužno optimalnog rješenja te da se, štoviše, od njega može drastično razlikovati. Potom predstavljamo rješenje konstruirano metaheurističkim pristupom, koristeći algoritam pretraživanja pod nazivom <b><i>Tabu search</i></b>. Usporedbom rezultata dobivenih ovim dvama tehnikama, donosimo konačne zaključke o najprikladnijem pristupu za rješavanje multidimenzionalnog problema ruksaka.</div>"
   ]
  },
  {
   "cell_type": "markdown",
   "id": "b65a1ff3",
   "metadata": {},
   "source": [
    "### Problem 0-1 ruksaka"
   ]
  },
  {
   "cell_type": "markdown",
   "id": "840ee6d9",
   "metadata": {},
   "source": [
    "<div style=\"text-align:justify\">Za dobivanje jasne slike o problemu koji rješavamo, na početku ćemo precizno definirati njegovu osnovnu i najjednostavniju verziju, poznatu pod nazivom problem <b>0-1 ruksaka</b> ili <i>knapsack problem</i>.</div>"
   ]
  },
  {
   "cell_type": "markdown",
   "id": "e118bcd2",
   "metadata": {},
   "source": [
    "<div style=\"text-align:justify\">Problem je moguće prikazati na veoma intuitivan i zanimljiv način. Zamislimo primjerice da smo krenuli u potragu za davno skrivenim izgubljenim blagom. Na leđa smo stavili ruksak i krenuli na put. Nakon dugog i iscrpljujućeg traganja, ulazimo u osamljenu spilju i nailazimo na ogromno brdo zlatnih poluga, srebrenika, dijamanata, bisera, vrijednoga nakita... Pronašli smo zaboravljeno blago! Već pri prvom pogledu na tonu blaga koja se nalazi ispred nas, jasno nam je da ćemo sa sobom biti u stanju ponijeti tek njen dijelić bez da uzrokujemo pucanje ruksaka. Potom otvaramo ruksak te u njega počinjemo mahom trpati sve što nam dolazi pod ruku. Međutim, kada ruksak napunimo do granica njegove izdržljivosti primjećujemo da je na hrpi blaga izvan ruksaka ostalo mnogo izuzetno dragocijenih stvari. Nakon pogleda u unutrašnjost ruksaka, primijetimo da se u njemu nalazi velik broj srebrenika te shvatimo da bi stvari koje smo ostavili mogle biti vrijednije od onih koje smo ponijeli. Izbacujemo sve iz ruksaka i počinjemo ga puniti ispočetka, pazeći pritom da ono što stavljamo u njega ima najveću moguću vrijednost. Ponovno smo ruksak napunili do granica izdržljivosti te primjećujemo da je sada u njemu tek par, izuzetno teških poluga zlata. Jesmo li uspjeli ruksak napuniti na najbolji mogući način? Formalizirajmo sada upravo opisani problem.</div>"
   ]
  },
  {
   "cell_type": "markdown",
   "id": "c679967e",
   "metadata": {},
   "source": [
    "<div style=\"text-align:justify\"><i>Za dani skup objekata, pri čemu je svakome pridružena težina i vrijednost, potrebno je odrediti koje od objekata uključiti u kolekciju čija ukupna težina ne prelazi unaprijed zadani težinski kapacitet kolekcije, tako da je vrijednost objekata uključenih u kolekciju maksimalna.</i></div>"
   ]
  },
  {
   "cell_type": "markdown",
   "id": "5b7a8002",
   "metadata": {},
   "source": [
    "<div style=\"text-align:justify\">Dakle, ako objekte tumačimo kao predmete sa svojstvima težine i vrijednosti, a traženu kolekciju kao ruksak sa ograničenim težinskim kapacitetom, potraga za optimalnom kolekcijom svodi se na biranje predmeta koje <b>možemo</b> staviti u ruksak, tako da predmeti u ruksaku na kraju imaju najveću moguću vrijednost. Zapišimo sada problem preciznom matematičkom notacijom: </div>"
   ]
  },
  {
   "cell_type": "markdown",
   "id": "e7ce3195",
   "metadata": {},
   "source": [
    "<div>\n",
    "<img src=\"01ruksak.jpg\" width=\"400\"/>\n",
    "</div>"
   ]
  },
  {
   "cell_type": "markdown",
   "id": "a8299263",
   "metadata": {},
   "source": [
    "<div style=\"text-align:justify\">Sva rješenja problema prezentirana su konačnim binarnim nizom, odnosno poljem duljine n, gdje i-ti bit predstavlja uključenost i-tog predmeta u rješenje. Primjerice, niz bitova [ 0 1 0 0 1 1 0 ] prenosi informaciju da se u ruksaku nalaze drugi, peti i šesti predmet, dok su prvi, treći, četvrti i sedmi predmet izvan ruksaka. Također iz ovakvoga je zapisa jednostavno iščitati da je ukupan broj predmeta na raspolaganju jednak sedam.</div>"
   ]
  },
  {
   "cell_type": "markdown",
   "id": "37e67ef2",
   "metadata": {},
   "source": [
    "<div style=\"text-align:justify\">Rješavanje problema 0-1 ruksaka zanimljiv je optimizacijski problem, koji se često spominje kao kanonski primjer problema rješivog tehnikama dinamičkog programiranja. Međutim, naše ćemo razmatranje nastaviti sa višedimenzionalnim problemom ruksaka, koji se može shvatiti kao proširenje upravo opisanog <i>Knapsack</i> problema.</div>"
   ]
  },
  {
   "cell_type": "markdown",
   "id": "e15c46a0",
   "metadata": {},
   "source": [
    "### Višedimenzionalni problem ruksaka"
   ]
  },
  {
   "cell_type": "markdown",
   "id": "9b9e073c",
   "metadata": {},
   "source": [
    "<div style=\"text-align:justify\">Višedimenzionalni problem ruksaka poopćenje je <i>Knapsack</i> problema. U početnom smo problemu 0-1 ruksaka promatrali jednodimenzionalno ograničenje optimalnog rješenja, odnosno morali smo predmete dodavati na način da ne premašimo maksimalni kapacitet ruksaka. Multidimenzionalna inačica problema promatra predmete s većim brojem \"težina\" odnosno svojstava, od kojih je suma svakog od svojstava u optimalnom rješenju ograničena jednom dimenzijom kapaciteta ruksaka. </div>"
   ]
  },
  {
   "cell_type": "markdown",
   "id": "e1b49a8c",
   "metadata": {},
   "source": [
    "<div style=\"text-align:justify\">Promatrajući prethodno opisani primjer s potragom za izgubljenim blagom, vrlo je jednostavno uvidjeti da prilikom dodavanja blaga u ruksak, nije dovoljno paziti samo da svi odabrani predmeti ukupnom masom ne premaše težinski kapacitet ruksaka, već da je potrebno odabirati predmete koji neće prelaziti niti njegov prostorni kapacitet.</div> "
   ]
  },
  {
   "cell_type": "markdown",
   "id": "4e30224a",
   "metadata": {},
   "source": [
    "<div style=\"text-align:justify\"> Prikažimo sada upravo opisani problem formalnom matematičkom notacijom: </div>"
   ]
  },
  {
   "cell_type": "markdown",
   "id": "5d5101b9",
   "metadata": {},
   "source": [
    "<div>\n",
    "<img src=\"multiruksak.jpg\" width=\"400\"/>\n",
    "</div>"
   ]
  },
  {
   "cell_type": "markdown",
   "id": "157d2658",
   "metadata": {},
   "source": [
    "<div style=\"text-align:justify\">Rješavanje višedimenzionalnog problema ruksaka također je moguće promatrati kao rješavanje više <i>Knapsack</i> problema odjednom. Zamislimo da za svako svojstvo predmeta imamo po jedan ruksak sa pripadnim kapacitetom <i>Wj</i>. Tada je naš cilj napuniti sve ruksake tako da je vrijednost predmeta u njima maksimalna, uz poštivanje danoga kapaciteta. Dakle višedimenzionalni problem ruksaka moguće je svesti na <i>m Knapsack</i> problema s istim dostupnim predmetima i pripadnim vrijednostima, ali uz težine i kapacitete ruksaka specifične za svaki od podproblema.</div>"
   ]
  },
  {
   "cell_type": "markdown",
   "id": "441e110c",
   "metadata": {},
   "source": [
    "### P i NP skupovi problema "
   ]
  },
  {
   "cell_type": "markdown",
   "id": "b66fc09b",
   "metadata": {},
   "source": [
    "<div style=\"text-align:justify\">Efikasno rješavanje ovoga problema pokazuje se kao veoma zahtjevan kombinatorni zadatak optimizacije, čak i u osnovnoj 0-1 verziji. Njegova komplicirana narav leži u činjenici da je ovaj problem element skupa <i>NP</i>-teških problema. </div>"
   ]
  },
  {
   "cell_type": "markdown",
   "id": "aa56b88d",
   "metadata": {},
   "source": [
    "<div style=\"text-align:justify\"><b><i>P</i></b> je skup svih problema odlučivanja koji su rješivi determinističkim algoritmom u polinomijalnom vremenu.<br>"
   ]
  },
  {
   "cell_type": "markdown",
   "id": "52188480",
   "metadata": {},
   "source": [
    "<b><i>NP</i></b> je skup svih problema odlučivanja rješivih nedeterminističkim algoritmom u polinomijalnom vremenu.<br>"
   ]
  },
  {
   "cell_type": "markdown",
   "id": "7a486960",
   "metadata": {},
   "source": [
    "Problem je <b><i>NP</i>-težak</b> ako postojanje determinističkog polinomijalnog algoritma za njegovo rješavanje povlači da je <i>P</i> = <i>NP</i>.<br>"
   ]
  },
  {
   "cell_type": "markdown",
   "id": "65ee0316",
   "metadata": {},
   "source": [
    "Problem je <b><i>NP</i>-potpun</b> ako je on <i>NP</i>-težak i ujedno član klase <i>NP</i>.</div>"
   ]
  },
  {
   "attachments": {},
   "cell_type": "markdown",
   "id": "68ee262e",
   "metadata": {},
   "source": [
    "<div>\n",
    "<img src=\"pnp.jpg\" width=\"400\"/>\n",
    "</div>"
   ]
  },
  {
   "cell_type": "markdown",
   "id": "6a7863f8",
   "metadata": {},
   "source": [
    "<div style=\"text-align:justify\">Drugim riječima, skup <i>P</i> sadrži sve probleme za čije su rješavanje pronađeni vremenski efikasni algoritmi. Vrijeme rješavanja instance ovakvog problema polinomijalno ovisi o njenoj veličini. S druge strane, problem je element skupa <i>NP</i> ako je za neko njegovo ponuđeno rješenje moguće vremenski efikasno provjeriti ispravnost tog rješenja. Očito se svaki element skupa <i>P</i> ujedno nalazi i u skupu <i>NP</i>, budući da je tada brza provjera ispravnosti danoga rješenja, nužna da bi problem bio u <i>NP</i>, moguća brzim rješavanjem problema, koje znamo da postoji jer je problem element skupa <i>P</i>. Iako je sadržanost skupa <i>P</i> u skupu <i>P</i> poprilično jednostavno uočiti, detaljniji odnos ovih dvaju skupova jedan je od najbitnijih i najtežih problema suvremene matematike. O njegovoj važnosti govori i činjenica da je, pod nazivom <b><i>P vs NP</i></b>, uvršten u <i>Sedam milenijskih problema</i> za čije rješavanje <i>Matematički institut Clay</i> od 2000.godine nudi novčanu nagradu od jednog milijuna dolara. Problem je dakle, dokazati skupovnu jednakost ili pak nejednakost tih dvaju skupova, odnosno odgovoriti na sljedeće pitanje: </div> "
   ]
  },
  {
   "cell_type": "markdown",
   "id": "1a6df76e",
   "metadata": {},
   "source": [
    "<div style=\"text-align:justify\"><i>Možemo li svaki problem, za koji znamo brzo provjeriti ispravnost nekog njegovog ponuđenog rješenja, ujedno i brzo riješiti?</i></div>"
   ]
  },
  {
   "cell_type": "markdown",
   "id": "a8eb09cb",
   "metadata": {},
   "source": [
    "<div style=\"text-align:justify\">Velika je većina znanstvenika ujedinjena oko mišljenja da ovakvo nešto ne može vrijediti, odnosno da skupovi <i>P</i> i <i>NP</i> ne mogu biti jednaki. Upravo je iz tog razloga ovo stajalište trenutno uvriježeno u proučavanju složenosti algoritama, a intuiciju koja ga potkrjepljuje najbolje je opisao američki znanstvenik Scott Aaronson:</div>"
   ]
  },
  {
   "cell_type": "markdown",
   "id": "8b5be477",
   "metadata": {},
   "source": [
    "<div style=\"text-align:justify\"><i><b>If P=NP, then the world would be a profoundly different place than we usually assume it to be. There would be no special value in “creative leaps,” no fundamental gap between solving a problem and recognizing the solution once it's found. Everyone who could appreciate a symphony would be Mozart; everyone who could follow a step-by-step argument would be Gauss; everyone who could recognize a good investment strategy would be Warren Buffett.</b></i></div>"
   ]
  },
  {
   "cell_type": "markdown",
   "id": "f039116f",
   "metadata": {},
   "source": [
    "<div style=\"text-align:justify\">Neznatan dio znanstvenika koji vjeruje da će se naposlijetku ipak dokazati jednakost ovih skupova, svoje mišljenje potkrjepljuje činjenicom da smo za mnoge probleme koji su se prije tridesetak godina smatrali elementima skupa <i>NP</i>, u međuvremenu pronašli efikasne polinomijalne algoritme te dokazali njihovu pripadnost skupu <i>P</i>. Smatraju stoga, da je samo pitanje vremena kada će i za posljednji problem skupa <i>NP</i> netko pronaći brz i učinkovit postupak rješavanja.</div>"
   ]
  },
  {
   "cell_type": "markdown",
   "id": "44c276cb",
   "metadata": {},
   "source": [
    "<div style=\"text-align:justify\">Proučavajući sve probleme za koje još nismo uspjeli pronaći efikasan postupak rješavanja, znanstvenici su uočili da mnogi od njih imaju zajedničku jezgru. Otkrili su klasu <i>NP</i>-teških problema koja sadrži probleme sa svojstvom da je svaku instancu bilo kojeg problema iz skupa <i>NP</i> moguće u polinomijalnom vremenu svesti na instancu promatranog <i>NP</i>-teškog problema. Drugim riječima, problem L je <i>NP</i>-težak ako i samo ako je svaki problem iz skupa <i>NP</i> moguće u polinomijalnom vremenu svesti na L. Upravo je ovo razlog zbog kojeg postojanje polinomijalnog algoritma za rješavanje bilo kojeg problema iz skupa <i>NP</i>-teških problema, povlači postojanje takvog algoritma za sve probleme u skupu NP. U tom bi slučaju vrijedilo <i>P</i> = <i>NP</i>. <i>NP</i>-potpuni problemi su <i>NP</i>-teški problemi koji se ujedno nalaze u skupu <i>NP</i>. Intuitivno, to su najteži problemi sadržani u skupu <i>NP</i>. Upravo klasi <i>NP</i>-potpunih problema pripada i <i>Multidimenzionalni problem ruksaka</i>. Zaključujemo stoga da je egzaktno rješenje njemu ekvivalentnog problema odlučivanja, vjerojatno nemoguće pronaći u polinomijalnom vremenu. Štoviše, budući da je bi pronalazak takvoga rješenja značio jednakost skupova <i>P</i> i <i>NP</i>, zaključujemo da bi takvo otkriće rješilo i <i>NP</i>-potpuni problem savijanja proteina, koji je ključna prepreka u uspješnom liječenju bolesti karcinoma. Vođeni ovim zaključkom, naš ćemo problem rješavati metaheurističkim pristupom, koji će nam omogućiti učinkovit i brz pronalazak njegovog približno točnog rješenja.</div>"
   ]
  },
  {
   "cell_type": "code",
   "execution_count": null,
   "id": "99a889d1",
   "metadata": {},
   "outputs": [],
   "source": []
  }
 ],
 "metadata": {
  "kernelspec": {
   "display_name": "Python 3 (ipykernel)",
   "language": "python",
   "name": "python3"
  },
  "language_info": {
   "codemirror_mode": {
    "name": "ipython",
    "version": 3
   },
   "file_extension": ".py",
   "mimetype": "text/x-python",
   "name": "python",
   "nbconvert_exporter": "python",
   "pygments_lexer": "ipython3",
   "version": "3.9.12"
  }
 },
 "nbformat": 4,
 "nbformat_minor": 5
}
